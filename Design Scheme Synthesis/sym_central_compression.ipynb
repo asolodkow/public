{
 "cells": [
  {
   "cell_type": "code",
   "execution_count": 1,
   "metadata": {},
   "outputs": [],
   "source": [
    "from sympy import *\n",
    "init_printing()"
   ]
  },
  {
   "cell_type": "markdown",
   "metadata": {},
   "source": [
    "<b>1 ХАРАКТЕРИСТИКИ СЕЧЕНИЯ</b>"
   ]
  },
  {
   "cell_type": "markdown",
   "metadata": {},
   "source": [
    "<b>1.1 Общие сведения</b>"
   ]
  },
  {
   "cell_type": "markdown",
   "metadata": {},
   "source": [
    "<b>1.1.1</b> Сечение рассчитывается только по полкам, используется упрощенная формула."
   ]
  },
  {
   "cell_type": "markdown",
   "metadata": {},
   "source": [
    "<b>1.1.2</b> Метрические значения задаются в мм. Силы задаются в Н."
   ]
  },
  {
   "cell_type": "markdown",
   "metadata": {},
   "source": [
    "<b>1.2 Символы и константы. Параметры сечения</b>"
   ]
  },
  {
   "cell_type": "code",
   "execution_count": 2,
   "metadata": {},
   "outputs": [],
   "source": [
    "shelf_width = symbols('b')\n",
    "shelf_height = symbols('h')\n",
    "shelf_half_distance = symbols('a')\n",
    "shelf_area = symbols('A_{sh}')\n",
    "section_area = symbols('A')\n",
    "section_inertion = symbols('I_{x}')\n",
    "section_radius = symbols('i_{x}')\n",
    "\n",
    "rod_length = symbols('l')\n",
    "rod_length_coefficient = symbols('\\mu')\n",
    "rod_flexibility = symbols('\\lambda')\n",
    "\n",
    "elastic_modulus = symbols('E')\n",
    "design_resistance = symbols('R_{y}')\n",
    "rod_conditional_flexibility = symbols('\\overline{\\lambda}')\n",
    "phi_coefficient = symbols('\\phi')\n",
    "\n",
    "force = symbols('F')\n",
    "tension = symbols('\\sigma')"
   ]
  },
  {
   "cell_type": "code",
   "execution_count": 3,
   "metadata": {},
   "outputs": [],
   "source": [
    "INERTION_UNIT_CONVERSION = 0.0001\n",
    "AREA_UNIT_CONVERSION = 0.01\n",
    "LINE_UNIT_CONVERSION = 0.1"
   ]
  },
  {
   "cell_type": "code",
   "execution_count": 4,
   "metadata": {},
   "outputs": [],
   "source": [
    "section_parameters = {shelf_width: 150,\n",
    "                      shelf_height: 9,\n",
    "                      shelf_half_distance: 92.5,\n",
    "                      rod_length: 9000,\n",
    "                      rod_length_coefficient: 1,\n",
    "                      elastic_modulus: 2.06 * 10 ** 5,\n",
    "                      design_resistance: 240,\n",
    "                      force: 350000}\n",
    "\n",
    "shelf_area_formula = shelf_width * shelf_height"
   ]
  },
  {
   "cell_type": "markdown",
   "metadata": {},
   "source": [
    "<b>1.3 Площадь сечения</b>"
   ]
  },
  {
   "cell_type": "code",
   "execution_count": 5,
   "metadata": {},
   "outputs": [
    {
     "data": {
      "image/png": "[encoded data removed]",
      "text/latex": [
       "$\\displaystyle A = 2 A_{sh}$"
      ],
      "text/plain": [
       "A = 2⋅A_{sh}"
      ]
     },
     "execution_count": 5,
     "metadata": {},
     "output_type": "execute_result"
    }
   ],
   "source": [
    "section_area_equation = Eq(section_area, 2 * shelf_area)\n",
    "section_area_equation"
   ]
  },
  {
   "cell_type": "code",
   "execution_count": 6,
   "metadata": {},
   "outputs": [
    {
     "data": {
      "image/png": "[encoded data removed]",
      "text/latex": [
       "$\\displaystyle A = 2 b h$"
      ],
      "text/plain": [
       "A = 2⋅b⋅h"
      ]
     },
     "execution_count": 6,
     "metadata": {},
     "output_type": "execute_result"
    }
   ],
   "source": [
    "section_area_equation.subs(shelf_area, shelf_area_formula)"
   ]
  },
  {
   "cell_type": "code",
   "execution_count": 7,
   "metadata": {},
   "outputs": [],
   "source": [
    "section_area_formula = 2 * shelf_width * shelf_height"
   ]
  },
  {
   "cell_type": "markdown",
   "metadata": {},
   "source": [
    "<b>1.4 Момент инерции сечения</b>"
   ]
  },
  {
   "cell_type": "code",
   "execution_count": 8,
   "metadata": {},
   "outputs": [
    {
     "data": {
      "image/png": "[encoded data removed]",
      "text/latex": [
       "$\\displaystyle I_{x} = 2 A_{sh} a^{2}$"
      ],
      "text/plain": [
       "                  2\n",
       "I_{x} = 2⋅A_{sh}⋅a "
      ]
     },
     "execution_count": 8,
     "metadata": {},
     "output_type": "execute_result"
    }
   ],
   "source": [
    "Eq(section_inertion, 2 * shelf_area * shelf_half_distance ** 2)"
   ]
  },
  {
   "cell_type": "code",
   "execution_count": 9,
   "metadata": {},
   "outputs": [
    {
     "data": {
      "image/png": "[encoded data removed]",
      "text/latex": [
       "$\\displaystyle I_{x} = 2 a^{2} b h$"
      ],
      "text/plain": [
       "           2    \n",
       "I_{x} = 2⋅a ⋅b⋅h"
      ]
     },
     "execution_count": 9,
     "metadata": {},
     "output_type": "execute_result"
    }
   ],
   "source": [
    "(Eq(section_inertion, 2 * shelf_area * shelf_half_distance ** 2)).subs(shelf_area, shelf_area_formula)"
   ]
  },
  {
   "cell_type": "code",
   "execution_count": 10,
   "metadata": {},
   "outputs": [],
   "source": [
    "section_inertion_formula = 2 * (shelf_half_distance ** 2) * shelf_width * shelf_height"
   ]
  },
  {
   "cell_type": "markdown",
   "metadata": {},
   "source": [
    "<b>1.5 Радиус инерции</b>"
   ]
  },
  {
   "cell_type": "code",
   "execution_count": 11,
   "metadata": {},
   "outputs": [
    {
     "data": {
      "image/png": "[encoded data removed]",
      "text/latex": [
       "$\\displaystyle i_{x} = \\sqrt{\\frac{I_{x}}{A}}$"
      ],
      "text/plain": [
       "            _______\n",
       "           ╱ I_{x} \n",
       "i_{x} =   ╱  ───── \n",
       "        ╲╱     A   "
      ]
     },
     "execution_count": 11,
     "metadata": {},
     "output_type": "execute_result"
    }
   ],
   "source": [
    "Eq(section_radius, sqrt(section_inertion / section_area))"
   ]
  },
  {
   "cell_type": "code",
   "execution_count": 12,
   "metadata": {},
   "outputs": [
    {
     "data": {
      "image/png": "[encoded data removed]",
      "text/latex": [
       "$\\displaystyle i_{x} = \\sqrt{a^{2}}$"
      ],
      "text/plain": [
       "           ____\n",
       "          ╱  2 \n",
       "i_{x} = ╲╱  a  "
      ]
     },
     "execution_count": 12,
     "metadata": {},
     "output_type": "execute_result"
    }
   ],
   "source": [
    "Eq(section_radius, sqrt(section_inertion / section_area)).subs([(section_inertion, section_inertion_formula),\n",
    "                                                                (section_area, section_area_formula)])"
   ]
  },
  {
   "cell_type": "markdown",
   "metadata": {},
   "source": [
    "<b>2 ХАРАКТЕРИСТИКИ СТЕРЖНЯ</b>"
   ]
  },
  {
   "cell_type": "markdown",
   "metadata": {},
   "source": [
    "<b>2.1 Гибкость стержня</b>"
   ]
  },
  {
   "cell_type": "code",
   "execution_count": 13,
   "metadata": {},
   "outputs": [
    {
     "data": {
      "image/png": "[encoded data removed]",
      "text/latex": [
       "$\\displaystyle \\lambda = \\frac{\\mu l}{i_{x}}$"
      ],
      "text/plain": [
       "          \\mu⋅l\n",
       "\\lambda = ─────\n",
       "          i_{x}"
      ]
     },
     "execution_count": 13,
     "metadata": {},
     "output_type": "execute_result"
    }
   ],
   "source": [
    "rod_flexibility_equation = Eq(rod_flexibility, (rod_length_coefficient * rod_length) / section_radius)\n",
    "rod_flexibility_equation"
   ]
  },
  {
   "cell_type": "code",
   "execution_count": 14,
   "metadata": {},
   "outputs": [
    {
     "data": {
      "image/png": "[encoded data removed]",
      "text/latex": [
       "$\\displaystyle \\lambda = \\frac{\\mu l}{a}$"
      ],
      "text/plain": [
       "          \\mu⋅l\n",
       "\\lambda = ─────\n",
       "            a  "
      ]
     },
     "execution_count": 14,
     "metadata": {},
     "output_type": "execute_result"
    }
   ],
   "source": [
    "rod_flexibility_equation.subs(section_radius, shelf_half_distance)"
   ]
  },
  {
   "cell_type": "code",
   "execution_count": 15,
   "metadata": {},
   "outputs": [],
   "source": [
    "rod_flexibility_formula = (rod_length_coefficient * rod_length) / shelf_half_distance"
   ]
  },
  {
   "cell_type": "markdown",
   "metadata": {},
   "source": [
    "<b>2.2 Условная гибкость стержня</b>"
   ]
  },
  {
   "cell_type": "code",
   "execution_count": 16,
   "metadata": {},
   "outputs": [
    {
     "data": {
      "image/png": "[encoded data removed]",
      "text/latex": [
       "$\\displaystyle \\overline{\\lambda} = \\lambda \\sqrt{\\frac{R_{y}}{E}}$"
      ],
      "text/plain": [
       "                                 _______\n",
       "                                ╱ R_{y} \n",
       "\\overline{\\lambda} = \\lambda⋅  ╱  ───── \n",
       "                             ╲╱     E   "
      ]
     },
     "execution_count": 16,
     "metadata": {},
     "output_type": "execute_result"
    }
   ],
   "source": [
    "rod_conditional_flexibility_equation = Eq(rod_conditional_flexibility,\n",
    "                                          rod_flexibility * sqrt(design_resistance / elastic_modulus))\n",
    "rod_conditional_flexibility_equation"
   ]
  },
  {
   "cell_type": "code",
   "execution_count": 17,
   "metadata": {},
   "outputs": [
    {
     "data": {
      "image/png": "[encoded data removed]",
      "text/latex": [
       "$\\displaystyle \\overline{\\lambda} = \\frac{\\mu l \\sqrt{\\frac{R_{y}}{E}}}{a}$"
      ],
      "text/plain": [
       "                               _______\n",
       "                              ╱ R_{y} \n",
       "                     \\mu⋅l⋅  ╱  ───── \n",
       "                           ╲╱     E   \n",
       "\\overline{\\lambda} = ─────────────────\n",
       "                             a        "
      ]
     },
     "execution_count": 17,
     "metadata": {},
     "output_type": "execute_result"
    }
   ],
   "source": [
    "rod_conditional_flexibility_equation.subs(rod_flexibility, rod_flexibility_formula)"
   ]
  },
  {
   "cell_type": "code",
   "execution_count": 18,
   "metadata": {},
   "outputs": [],
   "source": [
    "effective_length = rod_length_coefficient * rod_length\n",
    "material_relation = sqrt(design_resistance / elastic_modulus)\n",
    "rod_conditional_flexibility_formula = (effective_length * material_relation) / shelf_half_distance"
   ]
  },
  {
   "cell_type": "markdown",
   "metadata": {},
   "source": [
    "<b>2.3 Коэффициент продольного изгиба</b>"
   ]
  },
  {
   "cell_type": "code",
   "execution_count": 19,
   "metadata": {},
   "outputs": [
    {
     "name": "stdout",
     "output_type": "stream",
     "text": [
      "(0.4, 1000)\n",
      "(0.6, 986)\n",
      "(0.8, 967)\n",
      "(1.0, 948)\n",
      "(1.2, 927)\n",
      "(1.4, 905)\n",
      "(1.6, 881)\n",
      "(1.8, 855)\n",
      "(2.0, 826)\n",
      "(2.2, 794)\n",
      "(2.4, 760)\n",
      "(2.6, 723)\n",
      "(2.8, 683)\n",
      "(3.0, 643)\n",
      "(3.2, 602)\n",
      "(3.4, 562)\n",
      "(3.6, 524)\n",
      "(3.8, 487)\n",
      "(4.0, 453)\n",
      "(4.2, 422)\n",
      "(4.4, 392)\n",
      "(4.6, 359)\n",
      "(4.8, 330)\n",
      "(5.0, 304)\n",
      "(5.2, 281)\n",
      "(5.4, 261)\n",
      "(5.6, 242)\n",
      "(5.8, 226)\n",
      "(6.0, 211)\n",
      "(6.2, 198)\n",
      "(6.4, 186)\n",
      "(6.6, 174)\n",
      "(6.8, 164)\n",
      "(7.0, 155)\n",
      "(7.2, 147)\n",
      "(7.4, 139)\n",
      "(7.6, 132)\n",
      "(7.8, 125)\n",
      "(8.0, 119)\n",
      "(8.5, 105)\n",
      "(9.0, 94)\n",
      "(9.5, 84)\n",
      "(10.0, 76)\n"
     ]
    }
   ],
   "source": [
    "phi_table_value = [1000, 986, 967, 948, 927, 905, 881, 855, 826, 794, 760, 723, 683, 643, 602, 562, 524,\n",
    "                   487, 453, 422, 392, 359, 330, 304, 281, 261, 242, 226, 211, 198, 186, 174, 164, 155, 147,\n",
    "                   139, 132, 125, 119, 105, 94, 84, 76]\n",
    "phi_table_key = [round(i * 0.1, 1) for i in range(4, 80, 2)] + [round(i * 0.1, 1) for i in range(80, 105, 5)]\n",
    "phi_table = list(zip(phi_table_key, phi_table_value))\n",
    "\n",
    "def get_phi_coefficient (lam):\n",
    "# возвращает значение коэффициента продольного изгиба по условной гибкости conditional_lam\n",
    "    k = -2\n",
    "    for i in phi_table:\n",
    "        k += 1\n",
    "        if lam < 0.4:\n",
    "            return 0\n",
    "        elif lam == i[0]:\n",
    "            return i[1] * 0.001\n",
    "        elif lam < i[0]:\n",
    "            j = phi_table[k]\n",
    "            return ((lam - j[0]) * ((i[1] - j[1]) / (i[0] - j[0])) + j[1]) * 0.001\n",
    "    return 0\n",
    "\n",
    "for i in range(0, len(phi_table)):\n",
    "    print(phi_table[i])"
   ]
  },
  {
   "cell_type": "markdown",
   "metadata": {},
   "source": [
    "<b>3 НАПРЯЖЕНИЯ В СТЕРЖНЕ</b>"
   ]
  },
  {
   "cell_type": "markdown",
   "metadata": {},
   "source": [
    "<b>3.1 Условие прочности</b>"
   ]
  },
  {
   "cell_type": "code",
   "execution_count": 20,
   "metadata": {},
   "outputs": [
    {
     "data": {
      "image/png": "[encoded data removed]",
      "text/latex": [
       "$\\displaystyle \\sigma = \\frac{F}{A}$"
      ],
      "text/plain": [
       "         F\n",
       "\\sigma = ─\n",
       "         A"
      ]
     },
     "execution_count": 20,
     "metadata": {},
     "output_type": "execute_result"
    }
   ],
   "source": [
    "strength_condition = Eq(tension, force / section_area)\n",
    "strength_condition"
   ]
  },
  {
   "cell_type": "code",
   "execution_count": 21,
   "metadata": {},
   "outputs": [
    {
     "data": {
      "image/png": "[encoded data removed]",
      "text/latex": [
       "$\\displaystyle \\sigma = \\frac{F}{2 b h}$"
      ],
      "text/plain": [
       "           F  \n",
       "\\sigma = ─────\n",
       "         2⋅b⋅h"
      ]
     },
     "execution_count": 21,
     "metadata": {},
     "output_type": "execute_result"
    }
   ],
   "source": [
    "strength_condition.subs(section_area, section_area_formula)"
   ]
  },
  {
   "cell_type": "code",
   "execution_count": 22,
   "metadata": {},
   "outputs": [],
   "source": [
    "strength_tension_formula = force / (2 * shelf_width * shelf_height)"
   ]
  },
  {
   "cell_type": "markdown",
   "metadata": {},
   "source": [
    "<b>3.2 Условие устойчивости</b>"
   ]
  },
  {
   "cell_type": "code",
   "execution_count": 23,
   "metadata": {},
   "outputs": [
    {
     "data": {
      "image/png": "[encoded data removed]",
      "text/latex": [
       "$\\displaystyle \\sigma = \\frac{F}{A \\phi}$"
      ],
      "text/plain": [
       "           F   \n",
       "\\sigma = ──────\n",
       "         A⋅\\phi"
      ]
     },
     "execution_count": 23,
     "metadata": {},
     "output_type": "execute_result"
    }
   ],
   "source": [
    "stability_condition = Eq(tension, force / (phi_coefficient * section_area))\n",
    "stability_condition"
   ]
  },
  {
   "cell_type": "code",
   "execution_count": 24,
   "metadata": {},
   "outputs": [
    {
     "data": {
      "image/png": "[encoded data removed]",
      "text/latex": [
       "$\\displaystyle \\sigma = \\frac{F}{2 \\phi b h}$"
      ],
      "text/plain": [
       "             F     \n",
       "\\sigma = ──────────\n",
       "         2⋅\\phi⋅b⋅h"
      ]
     },
     "execution_count": 24,
     "metadata": {},
     "output_type": "execute_result"
    }
   ],
   "source": [
    "stability_condition.subs(section_area, section_area_formula)"
   ]
  },
  {
   "cell_type": "code",
   "execution_count": 25,
   "metadata": {},
   "outputs": [],
   "source": [
    "stability_tension_formula = force / (phi_coefficient * 2 * shelf_width * shelf_height)"
   ]
  },
  {
   "cell_type": "markdown",
   "metadata": {},
   "source": [
    "<b>ВЫЧИСЛЕНИЯ</b>"
   ]
  },
  {
   "cell_type": "code",
   "execution_count": 26,
   "metadata": {},
   "outputs": [],
   "source": [
    "class CentralCompression:\n",
    "    def __init__ (self):\n",
    "        self.rod = RodValue()\n",
    "        self.resistance = section_parameters[design_resistance]\n",
    "        self.strength_tension = strength_tension_formula.evalf(subs = section_parameters)\n",
    "        self.stability_tension = self.strength_tension / self.rod.phi_coefficient\n",
    "        self.strength_use = self.strength_tension / self.resistance\n",
    "        self.stability_use = self.stability_tension / self.resistance\n",
    "    def print_out (self):\n",
    "        self.rod.print_out()\n",
    "        print()\n",
    "        print(\"Напряжение по условию прочности: {0:.2f} Н/мм2\".format(self.strength_tension))\n",
    "        print(\"Напряжение по условию устойчивости: {0:.2f} Н/мм2\".format(self.stability_tension))\n",
    "        print(\"Расчетное сопротивление материала: {0:.2f} Н/мм2\".format(self.resistance))\n",
    "        print()\n",
    "        print(\"Коэффициент использования по условию прочности: {0:.3f}\".format(self.strength_use))\n",
    "        print(\"Коэффициент использования по условию устойчивости: {0:.3f}\".format(self.stability_use))\n",
    "\n",
    "class RodValue:\n",
    "    def __init__ (self):\n",
    "        self.section = SectionValue()\n",
    "        self.flexibility = rod_flexibility_formula.evalf(subs = section_parameters)\n",
    "        self.conditional_flexibility = rod_conditional_flexibility_formula.evalf(subs = section_parameters)\n",
    "        self.phi_coefficient = get_phi_coefficient(self.conditional_flexibility)\n",
    "    def print_out (self):\n",
    "        self.section.print_out()\n",
    "        print()\n",
    "        print(\"Гибкость стержня: {0:.2f}\".format(self.flexibility))\n",
    "        print(\"Условная гибкость стержня: {0:.2f}\".format(self.conditional_flexibility))\n",
    "        print(\"Коэффициент продольного изгиба: {0:.3f}\".format(self.phi_coefficient))\n",
    "\n",
    "class SectionValue:\n",
    "    def __init__ (self):\n",
    "        self.section_area = section_area_formula.evalf(subs = section_parameters)\n",
    "        self.inertion = section_inertion_formula.evalf(subs = section_parameters)\n",
    "        self.radius = section_parameters[shelf_half_distance]\n",
    "    def print_out (self):\n",
    "        print(\"Площадь сечения: {0:.2f} см2\".format(self.section_area * AREA_UNIT_CONVERSION))\n",
    "        print(\"Момент инерции сечения: {0:.2f} см4\".format(self.inertion * INERTION_UNIT_CONVERSION))\n",
    "        print(\"Радиус инерции сечения: {0:.2f} см\".format(self.radius * LINE_UNIT_CONVERSION))"
   ]
  },
  {
   "cell_type": "code",
   "execution_count": 27,
   "metadata": {},
   "outputs": [
    {
     "name": "stdout",
     "output_type": "stream",
     "text": [
      "Площадь сечения: 27.00 см2\n",
      "Момент инерции сечения: 2310.19 см4\n",
      "Радиус инерции сечения: 9.25 см\n",
      "\n",
      "Гибкость стержня: 97.30\n",
      "Условная гибкость стержня: 3.32\n",
      "Коэффициент продольного изгиба: 0.578\n",
      "\n",
      "Напряжение по условию прочности: 129.63 Н/мм2\n",
      "Напряжение по условию устойчивости: 224.35 Н/мм2\n",
      "Расчетное сопротивление материала: 240.00 Н/мм2\n",
      "\n",
      "Коэффициент использования по условию прочности: 0.540\n",
      "Коэффициент использования по условию устойчивости: 0.935\n"
     ]
    }
   ],
   "source": [
    "central_compression = CentralCompression()\n",
    "central_compression.print_out()"
   ]
  },
  {
   "cell_type": "code",
   "execution_count": null,
   "metadata": {},
   "outputs": [],
   "source": []
  }
 ],
 "metadata": {
  "kernelspec": {
   "display_name": "Python 3",
   "language": "python",
   "name": "python3"
  },
  "language_info": {
   "codemirror_mode": {
    "name": "ipython",
    "version": 3
   },
   "file_extension": ".py",
   "mimetype": "text/x-python",
   "name": "python",
   "nbconvert_exporter": "python",
   "pygments_lexer": "ipython3",
   "version": "3.7.6"
  }
 },
 "nbformat": 4,
 "nbformat_minor": 4
}
